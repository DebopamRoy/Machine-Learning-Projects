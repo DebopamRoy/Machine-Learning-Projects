{
 "cells": [
  {
   "cell_type": "code",
   "execution_count": 10,
   "id": "e0618a89",
   "metadata": {},
   "outputs": [],
   "source": [
    "import numpy as np\n",
    "import matplotlib.pyplot as plt\n",
    "from sklearn.datasets import make_blobs"
   ]
  },
  {
   "cell_type": "code",
   "execution_count": 11,
   "id": "afb4b79b",
   "metadata": {},
   "outputs": [],
   "source": [
    "#Generate our dataset\n",
    "dataset=make_blobs(n_samples=200,\n",
    "                  centers=4,\n",
    "                  n_features=2,\n",
    "                  cluster_std=1.6,\n",
    "                  random_state=50)"
   ]
  },
  {
   "cell_type": "code",
   "execution_count": 23,
   "id": "399923bd",
   "metadata": {},
   "outputs": [],
   "source": [
    "points=dataset[0]\n",
    "# print(dataset[0])"
   ]
  },
  {
   "cell_type": "code",
   "execution_count": 24,
   "id": "9bb0d933",
   "metadata": {},
   "outputs": [],
   "source": [
    "# import kmeans\n",
    "from sklearn.cluster import KMeans"
   ]
  },
  {
   "cell_type": "code",
   "execution_count": 25,
   "id": "eb1490f8",
   "metadata": {},
   "outputs": [],
   "source": [
    "#create a kmeans object\n",
    "kmeans=KMeans(n_clusters=4)"
   ]
  },
  {
   "cell_type": "code",
   "execution_count": 27,
   "id": "a0f5e8ba",
   "metadata": {},
   "outputs": [
    {
     "data": {
      "text/plain": [
       "KMeans(n_clusters=4)"
      ]
     },
     "execution_count": 27,
     "metadata": {},
     "output_type": "execute_result"
    }
   ],
   "source": [
    "# fit the Kmeans object to the dataset\n",
    "kmeans.fit(points)"
   ]
  },
  {
   "cell_type": "markdown",
   "id": "215fdfb4",
   "metadata": {},
   "source": [
    "plt.scatter(dataset[0][:,0], dataset[0][:,1])"
   ]
  },
  {
   "cell_type": "code",
   "execution_count": 30,
   "id": "b4eabac4",
   "metadata": {},
   "outputs": [],
   "source": [
    "clusters=kmeans.cluster_centers_"
   ]
  },
  {
   "cell_type": "code",
   "execution_count": 31,
   "id": "812dfb2c",
   "metadata": {},
   "outputs": [
    {
     "name": "stdout",
     "output_type": "stream",
     "text": [
      "[[-2.40167949 10.17352695]\n",
      " [ 0.05161133 -5.35489826]\n",
      " [-5.56465793 -2.34988939]\n",
      " [-1.92101646  5.21673484]]\n"
     ]
    }
   ],
   "source": [
    "#print out the clusters\n",
    "print(clusters)"
   ]
  },
  {
   "cell_type": "code",
   "execution_count": 32,
   "id": "519f4636",
   "metadata": {},
   "outputs": [],
   "source": [
    "y_km=kmeans.fit_predict(points)"
   ]
  },
  {
   "cell_type": "code",
   "execution_count": 44,
   "id": "4883fa33",
   "metadata": {},
   "outputs": [
    {
     "data": {
      "image/png": "[encoded data removed]",
      "text/plain": [
       "<Figure size 432x288 with 1 Axes>"
      ]
     },
     "metadata": {
      "needs_background": "light"
     },
     "output_type": "display_data"
    }
   ],
   "source": [
    "plt.scatter(points[y_km==0,0], points[y_km==0,1], s=50, color='red')\n",
    "plt.scatter(points[y_km==1,0], points[y_km==1,1], s=50, color='blue')\n",
    "plt.scatter(points[y_km==2,0], points[y_km==2,1], s=50, color='yellow')\n",
    "plt.scatter(points[y_km==3,0], points[y_km==3,1], s=50, color='green')\n",
    "\n",
    "\n",
    "plt.scatter(clusters[0][0],clusters[0][1], marker='*',s=100, color='black')\n",
    "plt.scatter(clusters[1][0],clusters[1][1], marker='*',s=100, color='black')\n",
    "plt.scatter(clusters[2][0],clusters[2][1], marker='*',s=100, color='black')\n",
    "plt.scatter(clusters[3][0],clusters[3][1], marker='*',s=100, color='black')\n",
    "\n",
    "\n",
    "plt.show()"
   ]
  },
  {
   "cell_type": "code",
   "execution_count": null,
   "id": "2744ffdb",
   "metadata": {},
   "outputs": [],
   "source": []
  }
 ],
 "metadata": {
  "kernelspec": {
   "display_name": "Python 3 (ipykernel)",
   "language": "python",
   "name": "python3"
  },
  "language_info": {
   "codemirror_mode": {
    "name": "ipython",
    "version": 3
   },
   "file_extension": ".py",
   "mimetype": "text/x-python",
   "name": "python",
   "nbconvert_exporter": "python",
   "pygments_lexer": "ipython3",
   "version": "3.10.0"
  }
 },
 "nbformat": 4,
 "nbformat_minor": 5
}
